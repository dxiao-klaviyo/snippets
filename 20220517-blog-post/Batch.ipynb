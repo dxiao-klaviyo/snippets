{
 "cells": [
  {
   "cell_type": "code",
   "execution_count": 1,
   "outputs": [],
   "source": [
    "import numpy as np\n",
    "from functools import reduce\n",
    "from typing import TypeVar, Callable\n",
    "\n",
    "T = TypeVar('T') # generic type for output of F(M)\n",
    "\n",
    "def R(x: T, row: np.ndarray): ... # reducer\n",
    "\n",
    "initial_value: T = ...\n",
    "\n",
    "def F(M: np.ndarray) -> T:\n",
    "  return reduce(R, M, initial_value)"
   ],
   "metadata": {
    "collapsed": false,
    "pycharm": {
     "name": "#%%\n"
    }
   }
  },
  {
   "cell_type": "code",
   "execution_count": 2,
   "outputs": [
    {
     "data": {
      "text/plain": "array([[  7,   2,   6, -11,  10,   7],\n       [  9,   3,   8, -17,  14,   9],\n       [ 12,   3,  10, -16,  16,  12],\n       [ -4,  -2,  -4,  12,  -8,  -4],\n       [ 17,   4,  14, -21,  22,  17],\n       [  8,   1,   6,  -4,   8,   8]])"
     },
     "execution_count": 2,
     "metadata": {},
     "output_type": "execute_result"
    }
   ],
   "source": [
    "A = np.array([\n",
    "  [1, 2],\n",
    "  [1, 3],\n",
    "  [2, 3],\n",
    "  [0, -2],\n",
    "  [3, 4],\n",
    "  [2, 1],\n",
    "])\n",
    "\n",
    "B = np.array([\n",
    "  [3, 0, 2, 1, 2, 3],\n",
    "  [2, 1, 2, -6, 4, 2]\n",
    "])\n",
    "\n",
    "np.matmul(A, B)"
   ],
   "metadata": {
    "collapsed": false,
    "pycharm": {
     "name": "#%%\n"
    }
   }
  },
  {
   "cell_type": "code",
   "execution_count": 3,
   "outputs": [],
   "source": [
    "# computes max entry\n",
    "initial_value: float = -np.inf\n",
    "def R(x: float, row: np.ndarray) -> float:\n",
    "  return max(x, row.max())"
   ],
   "metadata": {
    "collapsed": false,
    "pycharm": {
     "name": "#%%\n"
    }
   }
  },
  {
   "cell_type": "code",
   "execution_count": 4,
   "outputs": [
    {
     "data": {
      "text/plain": "22"
     },
     "execution_count": 4,
     "metadata": {},
     "output_type": "execute_result"
    }
   ],
   "source": [
    "F(np.matmul(A, B))"
   ],
   "metadata": {
    "collapsed": false,
    "pycharm": {
     "name": "#%%\n"
    }
   }
  },
  {
   "cell_type": "code",
   "execution_count": 5,
   "outputs": [],
   "source": [
    "m = np.matmul(A, B).shape[1]"
   ],
   "metadata": {
    "collapsed": false,
    "pycharm": {
     "name": "#%%\n"
    }
   }
  },
  {
   "cell_type": "code",
   "execution_count": 6,
   "outputs": [],
   "source": [
    "# computes max of each column\n",
    "initial_value: np.ndarray = np.full((1, m), -np.inf)\n",
    "def R(x: np.ndarray, row: np.ndarray) -> np.ndarray:\n",
    "  return np.maximum(x, row)"
   ],
   "metadata": {
    "collapsed": false,
    "pycharm": {
     "name": "#%%\n"
    }
   }
  },
  {
   "cell_type": "code",
   "execution_count": 7,
   "outputs": [
    {
     "data": {
      "text/plain": "array([[17.,  4., 14., 12., 22., 17.]])"
     },
     "execution_count": 7,
     "metadata": {},
     "output_type": "execute_result"
    }
   ],
   "source": [
    "F(np.matmul(A, B))"
   ],
   "metadata": {
    "collapsed": false,
    "pycharm": {
     "name": "#%%\n"
    }
   }
  },
  {
   "cell_type": "code",
   "execution_count": 8,
   "outputs": [],
   "source": [
    "def F_batched(A: np.ndarray,\n",
    "              B: np.ndarray,\n",
    "              batch_size: int,\n",
    "              R: Callable[[T, np.ndarray], T],\n",
    "              initial_value: T) -> T:\n",
    "  num_batches = max(int(A.shape[0] / batch_size), 1)\n",
    "  x = initial_value\n",
    "  for A_submatrix in np.array_split(A, num_batches):\n",
    "    x = reduce(R, np.matmul(A_submatrix, B), x)\n",
    "  return x"
   ],
   "metadata": {
    "collapsed": false,
    "pycharm": {
     "name": "#%%\n"
    }
   }
  },
  {
   "cell_type": "code",
   "execution_count": 9,
   "outputs": [
    {
     "data": {
      "text/plain": "array([[17.,  4., 14., 12., 22., 17.]])"
     },
     "execution_count": 9,
     "metadata": {},
     "output_type": "execute_result"
    }
   ],
   "source": [
    "F_batched(A, B, 2, R, initial_value)"
   ],
   "metadata": {
    "collapsed": false,
    "pycharm": {
     "name": "#%%\n"
    }
   }
  }
 ],
 "metadata": {
  "kernelspec": {
   "display_name": "Python 3",
   "language": "python",
   "name": "python3"
  },
  "language_info": {
   "codemirror_mode": {
    "name": "ipython",
    "version": 2
   },
   "file_extension": ".py",
   "mimetype": "text/x-python",
   "name": "python",
   "nbconvert_exporter": "python",
   "pygments_lexer": "ipython2",
   "version": "2.7.6"
  }
 },
 "nbformat": 4,
 "nbformat_minor": 0
}