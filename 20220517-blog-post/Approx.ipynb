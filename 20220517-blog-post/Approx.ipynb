{
 "cells": [
  {
   "cell_type": "code",
   "execution_count": 1,
   "outputs": [],
   "source": [
    "import numpy as np\n",
    "from functools import reduce\n",
    "from typing import TypeVar, Callable\n",
    "\n",
    "T = TypeVar('T') # generic type for output of F(M)\n",
    "\n",
    "def R(x: T, row: np.ndarray): ... # reducer\n",
    "\n",
    "initial_value: T = ...\n",
    "\n",
    "def F(M: np.ndarray) -> T:\n",
    "  return reduce(R, M, initial_value)"
   ],
   "metadata": {
    "collapsed": false,
    "pycharm": {
     "name": "#%%\n"
    }
   }
  },
  {
   "cell_type": "code",
   "execution_count": 2,
   "outputs": [],
   "source": [
    "A = np.random.random_sample(size=(10**6, 5))\n",
    "\n",
    "B = np.random.random_sample(size=(5, 10**3))\n",
    "\n",
    "M = np.matmul(A, B)"
   ],
   "metadata": {
    "collapsed": false,
    "pycharm": {
     "name": "#%%\n"
    }
   }
  },
  {
   "cell_type": "code",
   "execution_count": 3,
   "outputs": [],
   "source": [
    "from numpy.random import default_rng\n",
    "\n",
    "rng = default_rng()\n",
    "def F_approx(A: np.ndarray,\n",
    "             B: np.ndarray,\n",
    "             sample_size: int) -> T:\n",
    "  subsampled_A = rng.choice(A, sample_size, replace=False)\n",
    "  return F(np.matmul(subsampled_A, B))"
   ],
   "metadata": {
    "collapsed": false,
    "pycharm": {
     "name": "#%%\n"
    }
   }
  },
  {
   "cell_type": "code",
   "execution_count": 4,
   "outputs": [
    {
     "data": {
      "text/plain": "1.2674936944753523"
     },
     "execution_count": 4,
     "metadata": {},
     "output_type": "execute_result"
    }
   ],
   "source": [
    "# set up for computing average scores\n",
    "\n",
    "# as an example, let's use the median as the score\n",
    "def score(row: np.ndarray) -> float:\n",
    "  return np.median(row)\n",
    "\n",
    "def R(x: float, row: np.ndarray):\n",
    "  return x + score(row)\n",
    "\n",
    "initial_value: float = 0.\n",
    "\n",
    "real_value = F(M) / M.shape[0]\n",
    "real_value"
   ],
   "metadata": {
    "collapsed": false,
    "pycharm": {
     "name": "#%%\n"
    }
   }
  },
  {
   "cell_type": "code",
   "execution_count": 5,
   "outputs": [
    {
     "name": "stdout",
     "output_type": "stream",
     "text": [
      "s = 738, approx: 1.2768949729888694, difference=0.00940127851351713\n",
      "s = 1060, approx: 1.2557004072894151, difference=-0.011793287185937196\n",
      "s = 18445, approx: 1.265779680304528, difference=-0.001714014170824285\n"
     ]
    }
   ],
   "source": [
    "for s in (738, 1060, 18445):\n",
    "  approx_value = F_approx(A, B, s) / s\n",
    "  print(f\"s = {s}, approx: {approx_value}, difference={approx_value - real_value}\")"
   ],
   "metadata": {
    "collapsed": false,
    "pycharm": {
     "name": "#%%\n"
    }
   }
  },
  {
   "cell_type": "code",
   "execution_count": 6,
   "outputs": [],
   "source": [
    "# set up for computing max of every column\n",
    "\n",
    "def R(x: np.ndarray, row: np.ndarray):\n",
    "  return np.maximum(x, row)\n",
    "\n",
    "initial_value: np.ndarray = np.full((1, M.shape[1]), -np.inf)"
   ],
   "metadata": {
    "collapsed": false,
    "pycharm": {
     "name": "#%%\n"
    }
   }
  },
  {
   "cell_type": "code",
   "execution_count": 7,
   "outputs": [],
   "source": [
    "def is_top_pth_percentile(sample_maxes: np.ndarray, M: np.ndarray, p: float) -> np.ndarray:\n",
    "  return np.sum(M > sample_maxes, axis=0) / M.shape[0] < p"
   ],
   "metadata": {
    "collapsed": false,
    "pycharm": {
     "name": "#%%\n"
    }
   }
  },
  {
   "cell_type": "code",
   "execution_count": 8,
   "outputs": [
    {
     "name": "stdout",
     "output_type": "stream",
     "text": [
      "s = 194, number of columns not in top 0.05'th percentile is 0\n",
      "s = 986, number of columns not in top 0.01'th percentile is 0\n"
     ]
    }
   ],
   "source": [
    "for s, p in ((194, .05), (986, .01)):\n",
    "  sample_maxes = F_approx(A, B, s)\n",
    "  num_invalid = np.sum( ~ is_top_pth_percentile(sample_maxes, M, p))\n",
    "  print(f\"s = {s}, number of columns not in top {p}'th percentile is {num_invalid}\")"
   ],
   "metadata": {
    "collapsed": false,
    "pycharm": {
     "name": "#%%\n"
    }
   }
  }
 ],
 "metadata": {
  "kernelspec": {
   "display_name": "Python 3",
   "language": "python",
   "name": "python3"
  },
  "language_info": {
   "codemirror_mode": {
    "name": "ipython",
    "version": 2
   },
   "file_extension": ".py",
   "mimetype": "text/x-python",
   "name": "python",
   "nbconvert_exporter": "python",
   "pygments_lexer": "ipython2",
   "version": "2.7.6"
  }
 },
 "nbformat": 4,
 "nbformat_minor": 0
}